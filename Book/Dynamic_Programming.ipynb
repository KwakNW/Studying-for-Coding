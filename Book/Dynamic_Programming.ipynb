{
 "cells": [
  {
   "cell_type": "markdown",
   "metadata": {},
   "source": [
    "## 다이나믹 프로그래밍"
   ]
  },
  {
   "cell_type": "code",
   "execution_count": 6,
   "metadata": {},
   "outputs": [
    {
     "name": "stdout",
     "output_type": "stream",
     "text": [
      "34\n"
     ]
    }
   ],
   "source": [
    "# 피보나치 수열 => 재귀\n",
    "\n",
    "def fibo(n):\n",
    "    if n == 1 or n == 2:\n",
    "        return 1\n",
    "    return fibo(n-2) + fibo(n-1)\n",
    "\n",
    "print(fibo(9))"
   ]
  },
  {
   "cell_type": "code",
   "execution_count": 8,
   "metadata": {},
   "outputs": [
    {
     "name": "stdout",
     "output_type": "stream",
     "text": [
      "218922995834555169026\n"
     ]
    }
   ],
   "source": [
    "# 피보나치 수열 => DP\n",
    "# 훨씬 빠름\n",
    "\n",
    "d = [0] * 100\n",
    "\n",
    "def fibo(n):\n",
    "    if n == 1 or n == 2:\n",
    "        return 1\n",
    "    if d[n] != 0:\n",
    "        return d[n]\n",
    "    d[n] = fibo(n-2) + fibo(n-1)\n",
    "    return d[n]\n",
    "\n",
    "print(fibo(99))"
   ]
  },
  {
   "cell_type": "code",
   "execution_count": 10,
   "metadata": {},
   "outputs": [
    {
     "name": "stdout",
     "output_type": "stream",
     "text": [
      "34\n"
     ]
    }
   ],
   "source": [
    "# 피보나치 수열 \n",
    "d = [0] * 100\n",
    "d[1] = 1\n",
    "d[2] = 1\n",
    "n = 99\n",
    "\n",
    "for i in range(3, n+1):\n",
    "    d[i] = d[i-2] + d[i-1]\n",
    "    \n",
    "print(d[9])"
   ]
  },
  {
   "cell_type": "code",
   "execution_count": 12,
   "metadata": {},
   "outputs": [
    {
     "name": "stdout",
     "output_type": "stream",
     "text": [
      "26\n",
      "3\n"
     ]
    }
   ],
   "source": [
    "# 1로 만들기\n",
    "\n",
    "X = int(input())\n",
    "\n",
    "d = [0] * 30001\n",
    "\n",
    "for i in range(2, X+1):\n",
    "    d[i] = d[i-1] + 1\n",
    "    if i % 5 == 0:\n",
    "        d[i] = min(d[i], d[i // 5] + 1)\n",
    "    if i % 3 == 0:\n",
    "        d[i] = min(d[i], d[i // 3] + 1)\n",
    "    if i % 2 == 0:\n",
    "        d[i] = min(d[i], d[i // 2] + 1)\n",
    "\n",
    "print(d[X])"
   ]
  },
  {
   "cell_type": "code",
   "execution_count": 26,
   "metadata": {},
   "outputs": [
    {
     "name": "stdout",
     "output_type": "stream",
     "text": [
      "6\n",
      "1 4 9 6 3 8\n",
      "18\n"
     ]
    }
   ],
   "source": [
    "# 개미전사 => 내가 푼거\n",
    "\n",
    "N = int(input())\n",
    "K = list(map(int, input().split()))\n",
    "\n",
    "d = [0] * 100\n",
    "for i in range(N):\n",
    "    d[i] = K[i]\n",
    "\n",
    "for i in range(1, N):\n",
    "    d[i] = max(d[i-2] + d[i], d[i-3] + d[i])\n",
    "\n",
    "print(max(d))"
   ]
  },
  {
   "cell_type": "code",
   "execution_count": 28,
   "metadata": {},
   "outputs": [
    {
     "name": "stdout",
     "output_type": "stream",
     "text": [
      "6\n",
      "1 4 9 6 3 8\n",
      "18\n"
     ]
    }
   ],
   "source": [
    "# 개미전사 => 책\n",
    "\n",
    "n = int(input())\n",
    "array = list(map(int, input().split()))\n",
    "\n",
    "d = [0] * 100\n",
    "\n",
    "d[0] = array[0]\n",
    "d[1] = max(array[0], array[1])\n",
    "for i in range(2, n):\n",
    "    d[i] = max(d[i-1], d[i-2] + array[i])\n",
    "    \n",
    "print(d[n-1])"
   ]
  },
  {
   "cell_type": "code",
   "execution_count": 30,
   "metadata": {},
   "outputs": [
    {
     "name": "stdout",
     "output_type": "stream",
     "text": [
      "3\n",
      "5\n"
     ]
    }
   ],
   "source": [
    "# 바닥 공사\n",
    "\n",
    "N = int(input())\n",
    "\n",
    "d = [0] * 1001\n",
    "\n",
    "d[1] = 1\n",
    "d[2] = 3\n",
    "\n",
    "for i in range(3, N+1):\n",
    "    d[i] = (d[i-1] + 2 * d[i-2]) % 796796\n",
    "    \n",
    "print(d[N])"
   ]
  },
  {
   "cell_type": "code",
   "execution_count": 33,
   "metadata": {},
   "outputs": [
    {
     "name": "stdout",
     "output_type": "stream",
     "text": [
      "2 15\n",
      "2\n",
      "3\n",
      "5\n"
     ]
    }
   ],
   "source": [
    "# 화폐 구성\n",
    "\n",
    "N, M = map(int, input().split())\n",
    "money = [int(input()) for _ in range(N)]\n",
    "\n",
    "d = [10001] * (M + 1)\n",
    "\n",
    "d[0] = 0\n",
    "for i in range(N):\n",
    "    for j in range(money[i], M+1):\n",
    "        if d[j - money[i]] != 10001:\n",
    "            d[j] = min(d[j], d[j - money[i]] + 1)\n",
    "            \n",
    "if d[M] == 10001:\n",
    "    print(-1)\n",
    "else:\n",
    "    print(d[M])"
   ]
  },
  {
   "cell_type": "code",
   "execution_count": null,
   "metadata": {},
   "outputs": [],
   "source": [
    "## 다이나믹 프로그래밍\n",
    "\n",
    "# 피보나치 수열 => 재귀\n",
    "\n",
    "def fibo(n):\n",
    "    if n == 1 or n == 2:\n",
    "        return 1\n",
    "    return fibo(n-2) + fibo(n-1)\n",
    "\n",
    "print(fibo(9))\n",
    "\n",
    "# 피보나치 수열 => DP\n",
    "# 훨씬 빠름\n",
    "\n",
    "d = [0] * 100\n",
    "\n",
    "def fibo(n):\n",
    "    if n == 1 or n == 2:\n",
    "        return 1\n",
    "    if d[n] != 0:\n",
    "        return d[n]\n",
    "    d[n] = fibo(n-2) + fibo(n-1)\n",
    "    return d[n]\n",
    "\n",
    "print(fibo(99))\n",
    "\n",
    "# 피보나치 수열 \n",
    "d = [0] * 100\n",
    "d[1] = 1\n",
    "d[2] = 1\n",
    "n = 99\n",
    "\n",
    "for i in range(3, n+1):\n",
    "    d[i] = d[i-2] + d[i-1]\n",
    "    \n",
    "print(d[9])\n",
    "\n",
    "# 1로 만들기\n",
    "\n",
    "X = int(input())\n",
    "\n",
    "d = [0] * 30001\n",
    "\n",
    "for i in range(2, X+1):\n",
    "    d[i] = d[i-1] + 1\n",
    "    if i % 5 == 0:\n",
    "        d[i] = min(d[i], d[i // 5] + 1)\n",
    "    if i % 3 == 0:\n",
    "        d[i] = min(d[i], d[i // 3] + 1)\n",
    "    if i % 2 == 0:\n",
    "        d[i] = min(d[i], d[i // 2] + 1)\n",
    "\n",
    "print(d[X])\n",
    "\n",
    "# 개미전사 => 내가 푼거\n",
    "\n",
    "N = int(input())\n",
    "K = list(map(int, input().split()))\n",
    "\n",
    "d = [0] * 100\n",
    "for i in range(N):\n",
    "    d[i] = K[i]\n",
    "\n",
    "for i in range(1, N):\n",
    "    d[i] = max(d[i-2] + d[i], d[i-3] + d[i])\n",
    "\n",
    "print(max(d))\n",
    "\n",
    "# 개미전사 => 책\n",
    "\n",
    "n = int(input())\n",
    "array = list(map(int, input().split()))\n",
    "\n",
    "d = [0] * 100\n",
    "\n",
    "d[0] = array[0]\n",
    "d[1] = max(array[0], array[1])\n",
    "for i in range(2, n):\n",
    "    d[i] = max(d[i-1], d[i-2] + array[i])\n",
    "    \n",
    "print(d[n-1])\n",
    "\n",
    "# 바닥 공사\n",
    "\n",
    "N = int(input())\n",
    "\n",
    "d = [0] * 1001\n",
    "\n",
    "d[1] = 1\n",
    "d[2] = 3\n",
    "\n",
    "for i in range(3, N+1):\n",
    "    d[i] = (d[i-1] + 2 * d[i-2]) % 796796\n",
    "    \n",
    "print(d[N])\n",
    "\n",
    "# 화폐 구성\n",
    "\n",
    "N, M = map(int, input().split())\n",
    "money = [int(input()) for _ in range(N)]\n",
    "\n",
    "d = [10001] * (M + 1)\n",
    "\n",
    "d[0] = 0\n",
    "for i in range(N):\n",
    "    for j in range(money[i], M+1):\n",
    "        if d[j - money[i]] != 10001:\n",
    "            d[j] = min(d[j], d[j - money[i]] + 1)\n",
    "            \n",
    "if d[M] == 10001:\n",
    "    print(-1)\n",
    "else:\n",
    "    print(d[M])"
   ]
  },
  {
   "cell_type": "code",
   "execution_count": null,
   "metadata": {},
   "outputs": [],
   "source": []
  }
 ],
 "metadata": {
  "kernelspec": {
   "display_name": "Python [conda env:nw] *",
   "language": "python",
   "name": "conda-env-nw-py"
  },
  "language_info": {
   "codemirror_mode": {
    "name": "ipython",
    "version": 3
   },
   "file_extension": ".py",
   "mimetype": "text/x-python",
   "name": "python",
   "nbconvert_exporter": "python",
   "pygments_lexer": "ipython3",
   "version": "3.7.0"
  }
 },
 "nbformat": 4,
 "nbformat_minor": 4
}
