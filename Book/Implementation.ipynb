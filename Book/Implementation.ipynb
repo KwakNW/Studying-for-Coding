{
 "cells": [
  {
   "cell_type": "markdown",
   "metadata": {},
   "source": [
    "## 구현"
   ]
  },
  {
   "cell_type": "code",
   "execution_count": 9,
   "metadata": {},
   "outputs": [
    {
     "name": "stdout",
     "output_type": "stream",
     "text": [
      "5\n",
      "R R R U D D\n",
      "3 4\n"
     ]
    }
   ],
   "source": [
    "# 상하좌우 => 내가 구현\n",
    "\n",
    "N = int(input())\n",
    "Planner = input().split()\n",
    "location = [1, 1]\n",
    "\n",
    "for plan in Planner:\n",
    "    if plan == \"L\" and location[1] != 1:\n",
    "        location[1] -= 1\n",
    "    elif plan == \"R\" and location[1] != N:\n",
    "        location[1] += 1\n",
    "    elif plan == \"U\" and location[0] != 1:\n",
    "        location[0]  -= 1\n",
    "    elif plan == \"D\" and location[0] != N:\n",
    "        location[0] += 1\n",
    "    else:\n",
    "        pass\n",
    "\n",
    "print(location[0], location[1])"
   ]
  },
  {
   "cell_type": "code",
   "execution_count": 12,
   "metadata": {},
   "outputs": [
    {
     "name": "stdout",
     "output_type": "stream",
     "text": [
      "5\n",
      "R R R U D D\n",
      "3 4\n"
     ]
    }
   ],
   "source": [
    "# 상하좌우 => 책\n",
    "\n",
    "N = int(input())\n",
    "Planner = input().split()\n",
    "X, Y = 1, 1\n",
    "\n",
    "dx = [0, 0, -1, 1]\n",
    "dy = [-1, 1, 0, 0]\n",
    "move_types = [\"L\", \"R\", \"U\", \"D\"]\n",
    "\n",
    "for plan in Planner:\n",
    "    for i in range(len(move_types)):\n",
    "        if plan == move_types[i]:\n",
    "            nx = X + dx[i]\n",
    "            ny = Y + dy[i]\n",
    "    if nx < 1 or ny < 1 or nx > N or ny > N:\n",
    "        continue\n",
    "    X, Y = nx, ny\n",
    "    \n",
    "print(X, Y)"
   ]
  },
  {
   "cell_type": "code",
   "execution_count": 13,
   "metadata": {},
   "outputs": [
    {
     "name": "stdout",
     "output_type": "stream",
     "text": [
      "5\n",
      "11475\n"
     ]
    }
   ],
   "source": [
    "# 시각\n",
    "\n",
    "N = int(input())\n",
    "cnt = 0\n",
    "\n",
    "for i in range(N + 1):\n",
    "    for j in range(60):\n",
    "        for k in range(60):\n",
    "            if '3' in str(i) + str(j) + str(k):\n",
    "                cnt += 1\n",
    "                \n",
    "print(cnt)"
   ]
  },
  {
   "cell_type": "code",
   "execution_count": 19,
   "metadata": {},
   "outputs": [
    {
     "name": "stdout",
     "output_type": "stream",
     "text": [
      "c2\n",
      "6\n"
     ]
    }
   ],
   "source": [
    "# 왕실의 나이트\n",
    "\n",
    "N = input()\n",
    "row = int(N[1])\n",
    "col = int(ord(N[0])) - int(ord('a')) + 1\n",
    "steps = [(-2, -1),(-1, -2), (1, -2), (-1, 2), (2, -1), (-2, 1), (1, 2), (2, 1)]\n",
    "\n",
    "cnt = 0\n",
    "for step in steps:\n",
    "    nrow = row + step[0]\n",
    "    ncol = col + step[1]\n",
    "    \n",
    "    if nrow <= 8 and nrow >= 1 and ncol <= 8 and ncol >= 1:\n",
    "        cnt += 1\n",
    "        \n",
    "print(cnt)"
   ]
  },
  {
   "cell_type": "code",
   "execution_count": null,
   "metadata": {},
   "outputs": [],
   "source": [
    "# 게임 개발 => 어렵네\n",
    "\n",
    "def turn_left():\n",
    "    global direction\n",
    "    direction -= 1\n",
    "    if direction == -1:\n",
    "        direction = 3\n",
    "        \n",
    "N, M = map(int, input().split())\n",
    "\n",
    "# 방문한 위치를 저장하기 위한 맵을 생성하여 0으로 초기화\n",
    "d = [[0] * m for _ in range(n)]\n",
    "\n",
    "# 현재 캐릭터의 X 좌표, Y 좌표, 방향을 입력받기\n",
    "X, Y, direction = map(int, input().split())\n",
    "d[X][Y] = 1\n",
    "\n",
    "array = []\n",
    "for i in range(N):\n",
    "    array.append(list(map(int, input().split())))\n",
    "    \n",
    "dx = [-1, 0, 1, 0]\n",
    "dy = [0, 1, 0, -1]\n",
    "\n",
    "# 시물레이션 시작\n",
    "cnt = 1\n",
    "turn_time = 0\n",
    "\n",
    "while True:\n",
    "    turn_left()\n",
    "    nx = X + dx[direction]\n",
    "    ny = Y + dy[direction]\n",
    "    \n",
    "    if d[nx][ny] = 0 and array[nx][ny] == 0:\n",
    "        d[nx][ny] = 1\n",
    "        X = nx\n",
    "        Y = ny\n",
    "        cnt += 1\n",
    "        turn_time = 0\n",
    "        continue\n",
    "    else:\n",
    "        turn_time += 1\n",
    "    if turn_time == 4:\n",
    "        nx = X - dx[direction]\n",
    "        ny = Y - dy[direction]\n",
    "        if array[nx][ny] == 0:\n",
    "            X = nx\n",
    "            Y = ny\n",
    "        else:\n",
    "            break\n",
    "        turn_time = 0\n",
    "        \n",
    "print(cnt)"
   ]
  },
  {
   "cell_type": "code",
   "execution_count": null,
   "metadata": {},
   "outputs": [],
   "source": []
  }
 ],
 "metadata": {
  "kernelspec": {
   "display_name": "Python [conda env:nw] *",
   "language": "python",
   "name": "conda-env-nw-py"
  },
  "language_info": {
   "codemirror_mode": {
    "name": "ipython",
    "version": 3
   },
   "file_extension": ".py",
   "mimetype": "text/x-python",
   "name": "python",
   "nbconvert_exporter": "python",
   "pygments_lexer": "ipython3",
   "version": "3.7.0"
  }
 },
 "nbformat": 4,
 "nbformat_minor": 4
}
