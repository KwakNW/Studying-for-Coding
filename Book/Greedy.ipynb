{
 "cells": [
  {
   "cell_type": "markdown",
   "metadata": {},
   "source": [
    "## 그리디 알고리즘"
   ]
  },
  {
   "cell_type": "code",
   "execution_count": 5,
   "metadata": {},
   "outputs": [
    {
     "name": "stdout",
     "output_type": "stream",
     "text": [
      "1260\n",
      "6\n"
     ]
    }
   ],
   "source": [
    "# 거스름 돈 동전 갯수 최소\n",
    "\n",
    "N = int(input())\n",
    "change = [500, 100, 50, 10]\n",
    "cnt = 0\n",
    "\n",
    "for c in change:\n",
    "    cnt += N // c\n",
    "    N %= c\n",
    "\n",
    "print(cnt)"
   ]
  },
  {
   "cell_type": "code",
   "execution_count": 17,
   "metadata": {},
   "outputs": [
    {
     "name": "stdout",
     "output_type": "stream",
     "text": [
      "5 8 3\n",
      "2 4 5 4 6\n",
      "46\n"
     ]
    }
   ],
   "source": [
    "# 큰 수의 법칙\n",
    "\n",
    "N, M, K = list(map(int, input().split()))\n",
    "number = list(map(int, input().split()))\n",
    "\n",
    "number.sort()\n",
    "result = 0\n",
    "for i in range(1, M + 1):\n",
    "    if i % K == 0:\n",
    "        result += number[-2]\n",
    "    else:\n",
    "        result += number[-1]\n",
    "        \n",
    "print(result)"
   ]
  },
  {
   "cell_type": "code",
   "execution_count": 18,
   "metadata": {},
   "outputs": [
    {
     "name": "stdout",
     "output_type": "stream",
     "text": [
      "5 8 3\n",
      "2 4 5 4 6\n",
      "46\n"
     ]
    }
   ],
   "source": [
    "# 큰 수의 법칙 => 두번째로 큰 수가 더해지는 횟수를 구해서 구하기\n",
    "\n",
    "N, M, K = list(map(int, input().split()))\n",
    "number = list(map(int, input().split()))\n",
    "\n",
    "number.sort()\n",
    "\n",
    "cnt = int(M // (K + 1)) * K\n",
    "cnt += M % (K + 1)\n",
    "\n",
    "result = 0\n",
    "result += cnt * number[-1]\n",
    "result += (M - cnt) * number[-2]\n",
    "        \n",
    "print(result)"
   ]
  },
  {
   "cell_type": "code",
   "execution_count": 27,
   "metadata": {},
   "outputs": [
    {
     "name": "stdout",
     "output_type": "stream",
     "text": [
      "2 4\n",
      "7 3 1 8\n",
      "3 3 3 4\n",
      "3\n"
     ]
    }
   ],
   "source": [
    "# 숫자 카드 게임\n",
    "import math\n",
    "\n",
    "N, M = list(map(int, input().split()))\n",
    "matrix = []\n",
    "\n",
    "min_ = []\n",
    "for i in range(N):\n",
    "    matrix.append(list(map(int, input().split())))\n",
    "    min_.append(min(matrix[i]))\n",
    "\n",
    "print(max(min_))"
   ]
  },
  {
   "cell_type": "code",
   "execution_count": 3,
   "metadata": {},
   "outputs": [
    {
     "name": "stdout",
     "output_type": "stream",
     "text": [
      "25 5\n",
      "2\n"
     ]
    }
   ],
   "source": [
    "# 1이 될 때까지\n",
    "\n",
    "N, K = list(map(int, input().split()))\n",
    "cnt = 0\n",
    "\n",
    "while N != 1:\n",
    "    if N % K == 0:\n",
    "        N //= K\n",
    "        cnt += 1\n",
    "    else:\n",
    "        N -= 1\n",
    "        cnt += 1\n",
    "        \n",
    "print(cnt)"
   ]
  }
 ],
 "metadata": {
  "kernelspec": {
   "display_name": "Python [conda env:nw] *",
   "language": "python",
   "name": "conda-env-nw-py"
  },
  "language_info": {
   "codemirror_mode": {
    "name": "ipython",
    "version": 3
   },
   "file_extension": ".py",
   "mimetype": "text/x-python",
   "name": "python",
   "nbconvert_exporter": "python",
   "pygments_lexer": "ipython3",
   "version": "3.7.0"
  }
 },
 "nbformat": 4,
 "nbformat_minor": 4
}
